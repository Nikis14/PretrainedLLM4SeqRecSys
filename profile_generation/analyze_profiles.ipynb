{
 "cells": [
  {
   "cell_type": "code",
   "execution_count": 1,
   "metadata": {},
   "outputs": [],
   "source": [
    "import pandas as pd\n",
    "from itertools import combinations"
   ]
  },
  {
   "cell_type": "code",
   "execution_count": null,
   "metadata": {},
   "outputs": [
    {
     "data": {
      "text/plain": [
       "162559"
      ]
     },
     "execution_count": 4,
     "metadata": {},
     "output_type": "execute_result"
    }
   ],
   "source": [
    "interactions = pd.read_pickle(\"../data/processed/kion/test_sequences.pkl\")\n",
    "# inv_mappings_users, inv_mappings_items = pd.read_pickle('../data/processed/kion/mappings.pkl')\n",
    "# mappings_users = {v: k for k, v in inv_mappings_users.items()}\n",
    "# mappings_items = {v: k for k, v in inv_mappings_items.items()}"
   ]
  },
  {
   "cell_type": "code",
   "execution_count": null,
   "metadata": {},
   "outputs": [],
   "source": [
    "# Создадим список для хранения количества общих айтемов для каждой пары\n",
    "user_similarity = []\n",
    "\n",
    "for (user1, items1), (user2, items2) in combinations(interactions.items(), 2):\n",
    "    intersection = len(set(items1) & set(items2))  # Найдем пересечение\n",
    "    user_similarity.append((user1, user2, intersection))"
   ]
  },
  {
   "cell_type": "code",
   "execution_count": null,
   "metadata": {},
   "outputs": [],
   "source": [
    "user_similarity_df = pd.DataFrame(user_similarity, columns=[\"user1\", \"user2\", \"common_items\"])"
   ]
  },
  {
   "cell_type": "code",
   "execution_count": null,
   "metadata": {},
   "outputs": [],
   "source": [
    "user_similarity_df.to_csv('./output/user_similarity.csv', index=False)"
   ]
  },
  {
   "cell_type": "code",
   "execution_count": null,
   "metadata": {},
   "outputs": [
    {
     "name": "stdout",
     "output_type": "stream",
     "text": [
      "Пара наиболее похожих пользователей: user1           4169\n",
      "user2           4277\n",
      "common_items    1367\n",
      "Name: 16486631, dtype: int64\n",
      "Пара наиболее разных пользователей: user1            1\n",
      "user2           46\n",
      "common_items     0\n",
      "Name: 44, dtype: int64\n"
     ]
    }
   ],
   "source": [
    "most_similar = user_similarity_df.loc[user_similarity_df[\"common_items\"].idxmax()]\n",
    "most_different = user_similarity_df.loc[user_similarity_df[\"common_items\"].idxmin()]\n",
    "\n",
    "print(\"Пара наиболее похожих пользователей:\", most_similar)\n",
    "print(\"Пара наиболее разных пользователей:\", most_different)"
   ]
  },
  {
   "cell_type": "markdown",
   "metadata": {},
   "source": [
    "## Анализ"
   ]
  },
  {
   "cell_type": "code",
   "execution_count": 1,
   "metadata": {},
   "outputs": [],
   "source": [
    "import pandas as pd\n",
    "from sklearn.metrics.pairwise import cosine_similarity\n",
    "import torch\n",
    "import numpy as np"
   ]
  },
  {
   "cell_type": "code",
   "execution_count": 2,
   "metadata": {},
   "outputs": [],
   "source": [
    "df = pd.read_json('../embeddings.json')\n",
    "user_similarity_df = pd.read_csv('./output/user_similarity.csv')"
   ]
  },
  {
   "cell_type": "code",
   "execution_count": 3,
   "metadata": {},
   "outputs": [
    {
     "data": {
      "text/html": [
       "<div>\n",
       "<style scoped>\n",
       "    .dataframe tbody tr th:only-of-type {\n",
       "        vertical-align: middle;\n",
       "    }\n",
       "\n",
       "    .dataframe tbody tr th {\n",
       "        vertical-align: top;\n",
       "    }\n",
       "\n",
       "    .dataframe thead th {\n",
       "        text-align: right;\n",
       "    }\n",
       "</style>\n",
       "<table border=\"1\" class=\"dataframe\">\n",
       "  <thead>\n",
       "    <tr style=\"text-align: right;\">\n",
       "      <th></th>\n",
       "      <th>id</th>\n",
       "      <th>embedding</th>\n",
       "    </tr>\n",
       "  </thead>\n",
       "  <tbody>\n",
       "    <tr>\n",
       "      <th>0</th>\n",
       "      <td>1</td>\n",
       "      <td>[-0.0005691268, 0.021929597000000002, -0.02784...</td>\n",
       "    </tr>\n",
       "    <tr>\n",
       "      <th>1</th>\n",
       "      <td>2</td>\n",
       "      <td>[-0.0117520755, 0.02627983, -0.000477069959999...</td>\n",
       "    </tr>\n",
       "    <tr>\n",
       "      <th>2</th>\n",
       "      <td>3</td>\n",
       "      <td>[-0.011479706000000001, 0.037621167000000004, ...</td>\n",
       "    </tr>\n",
       "    <tr>\n",
       "      <th>3</th>\n",
       "      <td>4</td>\n",
       "      <td>[-0.01733712, 0.044699278, -0.011136063, -0.01...</td>\n",
       "    </tr>\n",
       "    <tr>\n",
       "      <th>4</th>\n",
       "      <td>5</td>\n",
       "      <td>[-0.0052591999999999995, 0.019822385, -0.01957...</td>\n",
       "    </tr>\n",
       "  </tbody>\n",
       "</table>\n",
       "</div>"
      ],
      "text/plain": [
       "   id                                          embedding\n",
       "0   1  [-0.0005691268, 0.021929597000000002, -0.02784...\n",
       "1   2  [-0.0117520755, 0.02627983, -0.000477069959999...\n",
       "2   3  [-0.011479706000000001, 0.037621167000000004, ...\n",
       "3   4  [-0.01733712, 0.044699278, -0.011136063, -0.01...\n",
       "4   5  [-0.0052591999999999995, 0.019822385, -0.01957..."
      ]
     },
     "execution_count": 3,
     "metadata": {},
     "output_type": "execute_result"
    }
   ],
   "source": [
    "df.head()"
   ]
  },
  {
   "cell_type": "code",
   "execution_count": 3,
   "metadata": {},
   "outputs": [],
   "source": [
    "most_dissimilar_users = user_similarity_df.sort_values(by='common_items', ascending=True).head(50)"
   ]
  },
  {
   "cell_type": "code",
   "execution_count": 4,
   "metadata": {},
   "outputs": [],
   "source": [
    "min_sim = 1"
   ]
  },
  {
   "cell_type": "code",
   "execution_count": 84,
   "metadata": {},
   "outputs": [],
   "source": [
    "sim_list = []"
   ]
  },
  {
   "cell_type": "code",
   "execution_count": 85,
   "metadata": {},
   "outputs": [],
   "source": [
    "for _, row in user_similarity_df.query('common_items == 0').loc[:200000].iterrows():\n",
    "    dissimilar_user1 = df.query(f'id == {row[\"user1\"]}').embedding.values[0]\n",
    "    dissimilar_user2 = df.query(f'id == {row[\"user2\"]}').embedding.values[0]\n",
    "    \n",
    "    torch_sim = torch.nn.CosineSimilarity(dim=0)(torch.tensor(dissimilar_user1), torch.tensor(dissimilar_user2))\n",
    "    sklearn_sim = cosine_similarity([dissimilar_user1], [dissimilar_user2])[0][0]\n",
    "    min_sim = min(min_sim, sklearn_sim)\n",
    "    sim_list.append(sklearn_sim)\n",
    "    # print(f'User {row[\"user1\"]} and user {row[\"user2\"]} have {row[\"common_items\"]} common items. Similarity is {sklearn_sim} | {torch_sim}')"
   ]
  },
  {
   "cell_type": "code",
   "execution_count": 88,
   "metadata": {},
   "outputs": [
    {
     "data": {
      "text/plain": [
       "0.8840421037418708"
      ]
     },
     "execution_count": 88,
     "metadata": {},
     "output_type": "execute_result"
    }
   ],
   "source": [
    "np.mean(sim_list)"
   ]
  },
  {
   "cell_type": "code",
   "execution_count": 89,
   "metadata": {},
   "outputs": [
    {
     "name": "stdout",
     "output_type": "stream",
     "text": [
      "0.7535151120736256\n"
     ]
    }
   ],
   "source": [
    "print(min_sim)"
   ]
  },
  {
   "cell_type": "code",
   "execution_count": 36,
   "metadata": {},
   "outputs": [],
   "source": [
    "most_similar_users = user_similarity_df.sort_values(by='common_items', ascending=False).head()"
   ]
  },
  {
   "cell_type": "code",
   "execution_count": 42,
   "metadata": {},
   "outputs": [
    {
     "name": "stdout",
     "output_type": "stream",
     "text": [
      "tensor(0.9330)\n",
      "User 4169 and user 4277 have 1367 common items. Similarity is 0.9566605880432233\n",
      "tensor(0.9376)\n",
      "User 1680 and user 4169 have 1334 common items. Similarity is 0.9566605880432233\n",
      "tensor(0.9467)\n",
      "User 1181 and user 4169 have 1237 common items. Similarity is 0.9566605880432233\n",
      "tensor(0.9132)\n",
      "User 1941 and user 4169 have 1191 common items. Similarity is 0.9566605880432233\n",
      "tensor(0.9567)\n",
      "User 889 and user 4169 have 1187 common items. Similarity is 0.9566605880432233\n"
     ]
    }
   ],
   "source": [
    "for _, row in most_similar_users.iterrows():\n",
    "    similar_user1 = df.query(f'id == {row[\"user1\"]}').embedding.values[0]\n",
    "    similar_user2 = df.query(f'id == {row[\"user2\"]}').embedding.values[0]\n",
    "    print(torch.nn.CosineSimilarity(dim=0)(torch.tensor(similar_user1), torch.tensor(similar_user2)))\n",
    "    print(f'User {row[\"user1\"]} and user {row[\"user2\"]} have {row[\"common_items\"]} common items. Similarity is {cosine_similarity([dissimilar_user1], [dissimilar_user2])[0][0]}')"
   ]
  }
 ],
 "metadata": {
  "kernelspec": {
   "display_name": "Python 3",
   "language": "python",
   "name": "python3"
  },
  "language_info": {
   "codemirror_mode": {
    "name": "ipython",
    "version": 3
   },
   "file_extension": ".py",
   "mimetype": "text/x-python",
   "name": "python",
   "nbconvert_exporter": "python",
   "pygments_lexer": "ipython3",
   "version": "3.11.4"
  }
 },
 "nbformat": 4,
 "nbformat_minor": 2
}
